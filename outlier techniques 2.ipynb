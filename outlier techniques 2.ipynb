{
 "cells": [
  {
   "cell_type": "code",
   "execution_count": 1,
   "id": "4bba1330",
   "metadata": {},
   "outputs": [],
   "source": [
    "import pandas as pd\n",
    "import numpy as np\n",
    "import matplotlib.pyplot as plt\n",
    "import seaborn as sns\n",
    "%matplotlib inline"
   ]
  },
  {
   "cell_type": "code",
   "execution_count": 2,
   "id": "38cd3472",
   "metadata": {},
   "outputs": [],
   "source": [
    "data = pd.read_csv('https://gist.githubusercontent.com/curran/a08a1080b88344b0c8a7/raw/0e7a9b0a5d22642a06d3d5b9bcbad9890c8ee534/iris.csv')"
   ]
  },
  {
   "cell_type": "code",
   "execution_count": 3,
   "id": "4b964af0",
   "metadata": {},
   "outputs": [
    {
     "data": {
      "text/html": [
       "<div>\n",
       "<style scoped>\n",
       "    .dataframe tbody tr th:only-of-type {\n",
       "        vertical-align: middle;\n",
       "    }\n",
       "\n",
       "    .dataframe tbody tr th {\n",
       "        vertical-align: top;\n",
       "    }\n",
       "\n",
       "    .dataframe thead th {\n",
       "        text-align: right;\n",
       "    }\n",
       "</style>\n",
       "<table border=\"1\" class=\"dataframe\">\n",
       "  <thead>\n",
       "    <tr style=\"text-align: right;\">\n",
       "      <th></th>\n",
       "      <th>sepal_length</th>\n",
       "      <th>sepal_width</th>\n",
       "      <th>petal_length</th>\n",
       "      <th>petal_width</th>\n",
       "      <th>species</th>\n",
       "    </tr>\n",
       "  </thead>\n",
       "  <tbody>\n",
       "    <tr>\n",
       "      <th>0</th>\n",
       "      <td>5.1</td>\n",
       "      <td>3.5</td>\n",
       "      <td>1.4</td>\n",
       "      <td>0.2</td>\n",
       "      <td>setosa</td>\n",
       "    </tr>\n",
       "    <tr>\n",
       "      <th>1</th>\n",
       "      <td>4.9</td>\n",
       "      <td>3.0</td>\n",
       "      <td>1.4</td>\n",
       "      <td>0.2</td>\n",
       "      <td>setosa</td>\n",
       "    </tr>\n",
       "    <tr>\n",
       "      <th>2</th>\n",
       "      <td>4.7</td>\n",
       "      <td>3.2</td>\n",
       "      <td>1.3</td>\n",
       "      <td>0.2</td>\n",
       "      <td>setosa</td>\n",
       "    </tr>\n",
       "    <tr>\n",
       "      <th>3</th>\n",
       "      <td>4.6</td>\n",
       "      <td>3.1</td>\n",
       "      <td>1.5</td>\n",
       "      <td>0.2</td>\n",
       "      <td>setosa</td>\n",
       "    </tr>\n",
       "    <tr>\n",
       "      <th>4</th>\n",
       "      <td>5.0</td>\n",
       "      <td>3.6</td>\n",
       "      <td>1.4</td>\n",
       "      <td>0.2</td>\n",
       "      <td>setosa</td>\n",
       "    </tr>\n",
       "  </tbody>\n",
       "</table>\n",
       "</div>"
      ],
      "text/plain": [
       "   sepal_length  sepal_width  petal_length  petal_width species\n",
       "0           5.1          3.5           1.4          0.2  setosa\n",
       "1           4.9          3.0           1.4          0.2  setosa\n",
       "2           4.7          3.2           1.3          0.2  setosa\n",
       "3           4.6          3.1           1.5          0.2  setosa\n",
       "4           5.0          3.6           1.4          0.2  setosa"
      ]
     },
     "execution_count": 3,
     "metadata": {},
     "output_type": "execute_result"
    }
   ],
   "source": [
    "data.head()"
   ]
  },
  {
   "cell_type": "code",
   "execution_count": 4,
   "id": "bc408b52",
   "metadata": {},
   "outputs": [],
   "source": [
    "from sklearn import cluster"
   ]
  },
  {
   "cell_type": "code",
   "execution_count": 5,
   "id": "1c82bc8b",
   "metadata": {},
   "outputs": [],
   "source": [
    "from sklearn.cluster import DBSCAN"
   ]
  },
  {
   "cell_type": "code",
   "execution_count": 6,
   "id": "435ef135",
   "metadata": {},
   "outputs": [],
   "source": [
    "db = DBSCAN()"
   ]
  },
  {
   "cell_type": "code",
   "execution_count": 7,
   "id": "17a6ca70",
   "metadata": {},
   "outputs": [],
   "source": [
    "model = db.fit(data[['sepal_length' , 'sepal_width']])"
   ]
  },
  {
   "cell_type": "code",
   "execution_count": 8,
   "id": "e3e9ba92",
   "metadata": {},
   "outputs": [
    {
     "data": {
      "text/plain": [
       "<matplotlib.collections.PathCollection at 0x17160fdfcd0>"
      ]
     },
     "execution_count": 8,
     "metadata": {},
     "output_type": "execute_result"
    },
    {
     "data": {
      "image/png": "[encoded data removed]",
      "text/plain": [
       "<Figure size 432x288 with 1 Axes>"
      ]
     },
     "metadata": {
      "needs_background": "light"
     },
     "output_type": "display_data"
    }
   ],
   "source": [
    "color = model.labels_\n",
    "plt.scatter(x=data['sepal_length'], y=data['sepal_width'], c = color)"
   ]
  },
  {
   "cell_type": "code",
   "execution_count": 9,
   "id": "9ee426ad",
   "metadata": {},
   "outputs": [],
   "source": [
    "from sklearn.neighbors import NearestNeighbors"
   ]
  },
  {
   "cell_type": "code",
   "execution_count": 10,
   "id": "7c1fc62a",
   "metadata": {},
   "outputs": [],
   "source": [
    "ner = NearestNeighbors(n_neighbors=2)"
   ]
  },
  {
   "cell_type": "code",
   "execution_count": 11,
   "id": "a9985e80",
   "metadata": {},
   "outputs": [],
   "source": [
    "nbrs = ner.fit(data[['sepal_length', 'sepal_width']])"
   ]
  },
  {
   "cell_type": "code",
   "execution_count": 12,
   "id": "795d72aa",
   "metadata": {},
   "outputs": [
    {
     "data": {
      "text/plain": [
       "NearestNeighbors(n_neighbors=2)"
      ]
     },
     "execution_count": 12,
     "metadata": {},
     "output_type": "execute_result"
    }
   ],
   "source": [
    "nbrs"
   ]
  },
  {
   "cell_type": "code",
   "execution_count": 13,
   "id": "37a62d18",
   "metadata": {},
   "outputs": [],
   "source": [
    "distances, indices  = nbrs.kneighbors(data[['sepal_length', 'sepal_width']])"
   ]
  },
  {
   "cell_type": "code",
   "execution_count": 14,
   "id": "854fa199",
   "metadata": {},
   "outputs": [
    {
     "data": {
      "text/plain": [
       "array([[0.        , 0.        ],\n",
       "       [0.        , 0.1       ],\n",
       "       [0.        , 0.        ],\n",
       "       [0.        , 0.1       ],\n",
       "       [0.        , 0.1       ],\n",
       "       [0.        , 0.        ],\n",
       "       [0.        , 0.2       ],\n",
       "       [0.        , 0.        ],\n",
       "       [0.        , 0.1       ],\n",
       "       [0.        , 0.        ],\n",
       "       [0.        , 0.1       ],\n",
       "       [0.        , 0.        ],\n",
       "       [0.        , 0.        ],\n",
       "       [0.        , 0.1       ],\n",
       "       [0.        , 0.2236068 ],\n",
       "       [0.        , 0.28284271],\n",
       "       [0.        , 0.        ],\n",
       "       [0.        , 0.        ],\n",
       "       [0.        , 0.2236068 ],\n",
       "       [0.        , 0.        ],\n",
       "       [0.        , 0.        ],\n",
       "       [0.        , 0.1       ],\n",
       "       [0.        , 0.2       ],\n",
       "       [0.        , 0.1       ],\n",
       "       [0.        , 0.        ],\n",
       "       [0.        , 0.1       ],\n",
       "       [0.        , 0.        ],\n",
       "       [0.        , 0.1       ],\n",
       "       [0.        , 0.1       ],\n",
       "       [0.        , 0.        ],\n",
       "       [0.        , 0.1       ],\n",
       "       [0.        , 0.        ],\n",
       "       [0.        , 0.28284271],\n",
       "       [0.        , 0.28284271],\n",
       "       [0.        , 0.        ],\n",
       "       [0.        , 0.1       ],\n",
       "       [0.        , 0.14142136],\n",
       "       [0.        , 0.        ],\n",
       "       [0.        , 0.1       ],\n",
       "       [0.        , 0.1       ],\n",
       "       [0.        , 0.        ],\n",
       "       [0.        , 0.41231056],\n",
       "       [0.        , 0.2       ],\n",
       "       [0.        , 0.        ],\n",
       "       [0.        , 0.        ],\n",
       "       [0.        , 0.        ],\n",
       "       [0.        , 0.        ],\n",
       "       [0.        , 0.1       ],\n",
       "       [0.        , 0.1       ],\n",
       "       [0.        , 0.1       ],\n",
       "       [0.        , 0.1       ],\n",
       "       [0.        , 0.        ],\n",
       "       [0.        , 0.        ],\n",
       "       [0.        , 0.1       ],\n",
       "       [0.        , 0.1       ],\n",
       "       [0.        , 0.        ],\n",
       "       [0.        , 0.        ],\n",
       "       [0.        , 0.1       ],\n",
       "       [0.        , 0.1       ],\n",
       "       [0.        , 0.2236068 ],\n",
       "       [0.        , 0.3       ],\n",
       "       [0.        , 0.        ],\n",
       "       [0.        , 0.        ],\n",
       "       [0.        , 0.1       ],\n",
       "       [0.        , 0.1       ],\n",
       "       [0.        , 0.        ],\n",
       "       [0.        , 0.        ],\n",
       "       [0.        , 0.        ],\n",
       "       [0.        , 0.14142136],\n",
       "       [0.        , 0.1       ],\n",
       "       [0.        , 0.2       ],\n",
       "       [0.        , 0.        ],\n",
       "       [0.        , 0.        ],\n",
       "       [0.        , 0.        ],\n",
       "       [0.        , 0.1       ],\n",
       "       [0.        , 0.1       ],\n",
       "       [0.        , 0.2       ],\n",
       "       [0.        , 0.        ],\n",
       "       [0.        , 0.1       ],\n",
       "       [0.        , 0.1       ],\n",
       "       [0.        , 0.        ],\n",
       "       [0.        , 0.        ],\n",
       "       [0.        , 0.        ],\n",
       "       [0.        , 0.14142136],\n",
       "       [0.        , 0.2       ],\n",
       "       [0.        , 0.2       ],\n",
       "       [0.        , 0.        ],\n",
       "       [0.        , 0.14142136],\n",
       "       [0.        , 0.        ],\n",
       "       [0.        , 0.1       ],\n",
       "       [0.        , 0.1       ],\n",
       "       [0.        , 0.        ],\n",
       "       [0.        , 0.1       ],\n",
       "       [0.        , 0.14142136],\n",
       "       [0.        , 0.1       ],\n",
       "       [0.        , 0.1       ],\n",
       "       [0.        , 0.1       ],\n",
       "       [0.        , 0.1       ],\n",
       "       [0.        , 0.2       ],\n",
       "       [0.        , 0.        ],\n",
       "       [0.        , 0.        ],\n",
       "       [0.        , 0.        ],\n",
       "       [0.        , 0.1       ],\n",
       "       [0.        , 0.1       ],\n",
       "       [0.        , 0.        ],\n",
       "       [0.        , 0.1       ],\n",
       "       [0.        , 0.1       ],\n",
       "       [0.        , 0.14142136],\n",
       "       [0.        , 0.31622777],\n",
       "       [0.        , 0.4       ],\n",
       "       [0.        , 0.1       ],\n",
       "       [0.        , 0.1       ],\n",
       "       [0.        , 0.1       ],\n",
       "       [0.        , 0.1       ],\n",
       "       [0.        , 0.1       ],\n",
       "       [0.        , 0.        ],\n",
       "       [0.        , 0.        ],\n",
       "       [0.        , 0.2       ],\n",
       "       [0.        , 0.2       ],\n",
       "       [0.        , 0.        ],\n",
       "       [0.        , 0.1       ],\n",
       "       [0.        , 0.1       ],\n",
       "       [0.        , 0.2       ],\n",
       "       [0.        , 0.1       ],\n",
       "       [0.        , 0.        ],\n",
       "       [0.        , 0.2       ],\n",
       "       [0.        , 0.1       ],\n",
       "       [0.        , 0.        ],\n",
       "       [0.        , 0.        ],\n",
       "       [0.        , 0.1       ],\n",
       "       [0.        , 0.14142136],\n",
       "       [0.        , 0.2       ],\n",
       "       [0.        , 0.        ],\n",
       "       [0.        , 0.1       ],\n",
       "       [0.        , 0.14142136],\n",
       "       [0.        , 0.1       ],\n",
       "       [0.        , 0.1       ],\n",
       "       [0.        , 0.1       ],\n",
       "       [0.        , 0.1       ],\n",
       "       [0.        , 0.        ],\n",
       "       [0.        , 0.        ],\n",
       "       [0.        , 0.        ],\n",
       "       [0.        , 0.        ],\n",
       "       [0.        , 0.1       ],\n",
       "       [0.        , 0.        ],\n",
       "       [0.        , 0.        ],\n",
       "       [0.        , 0.        ],\n",
       "       [0.        , 0.        ],\n",
       "       [0.        , 0.1       ],\n",
       "       [0.        , 0.        ]])"
      ]
     },
     "execution_count": 14,
     "metadata": {},
     "output_type": "execute_result"
    }
   ],
   "source": [
    "distances"
   ]
  },
  {
   "cell_type": "code",
   "execution_count": 15,
   "id": "4b546b1c",
   "metadata": {},
   "outputs": [
    {
     "data": {
      "image/png": "[encoded data removed]",
      "text/plain": [
       "<Figure size 720x504 with 1 Axes>"
      ]
     },
     "metadata": {
      "needs_background": "light"
     },
     "output_type": "display_data"
    }
   ],
   "source": [
    "distances = np.sort(distances, axis = 0)\n",
    "distances = distances\n",
    "figure = plt.figure(figsize=(10,7))\n",
    "plt.plot(distances)\n",
    "plt.title('k-distance Graph')\n",
    "plt.xlabel('Data points are sorted by distance')\n",
    "plt.ylabel('Epsilon')\n",
    "plt.show()"
   ]
  },
  {
   "cell_type": "markdown",
   "id": "809126a8",
   "metadata": {},
   "source": [
    "# IQR-based detection general method\n",
    "\n",
    "An IQR-based detection is a statistical approach. This technique is applied for individual features, not for whole observations as in the Elliptic envelope. The intuition behind IQR-based detection is also very simple. First, we calculate the first quartile (Q1) and third quartile (Q3) of the data. Then we get the difference between those quartiles. That difference is called the IQR (InterQuartile Range).\n",
    "\n",
    "IQR = Q3-Q1\n",
    "\n",
    "Lower bound = Q1–1.5(IQR)\n",
    "\n",
    "Upper bound = Q3+1.5(IQR)\n",
    "\n",
    "IQR.png\n",
    "\n",
    "Outlier detection Methods\n",
    "Lets dive into Outlier detection methods\n",
    "\n",
    "1. Z-Score or Extreme Value Analysis (parametric)\n",
    "The z-score or standard score of an observation is a metric that indicates how many standard deviations a data point is from the sample’s mean, assuming a gaussian distribution.\n",
    "\n",
    "This makes z-score a parametric method. Very frequently data points are not to described by a gaussian distribution, this problem can be solved by applying transformations to data ie: scaling it. Some Python libraries like Scipy and Sci-kit Learn have easy to use functions and classes for a easy implementation along with Pandas and Numpy.\n",
    "\n",
    "After making the appropriate transformations to the selected feature space of the dataset, the z-score of any data point can be calculated with the following expression:\n",
    "\n",
    "Z%20score.png\n",
    "\n",
    "When computing the z-score for each sample on the data set a threshold must be specified. Some good ‘thumb-rule’ thresholds can be: 2.5, 3, 3.5 or more standard deviations."
   ]
  },
  {
   "cell_type": "markdown",
   "id": "e4bf300c",
   "metadata": {},
   "source": [
    "# Outlier detection Methods\n",
    "Lets dive into Outlier detection methods"
   ]
  },
  {
   "cell_type": "markdown",
   "id": "cdcdd160",
   "metadata": {},
   "source": [
    "# 1. Z-Score or Extreme Value Analysis (parametric)\n",
    "\n",
    "The z-score or standard score of an observation is a metric that indicates how many standard deviations a data point is from the sample’s mean, assuming a gaussian distribution.\n",
    "\n",
    "This makes z-score a parametric method. Very frequently data points are not to described by a gaussian distribution, this problem can be solved by applying transformations to data ie: scaling it. Some Python libraries like Scipy and Sci-kit Learn have easy to use functions and classes for a easy implementation along with Pandas and Numpy.\n",
    "\n",
    "After making the appropriate transformations to the selected feature space of the dataset, the z-score of any data point can be calculated with the following expression:\n",
    "\n",
    "Z%20score.png\n",
    "\n",
    "When computing the z-score for each sample on the data set a threshold must be specified. Some good ‘thumb-rule’ thresholds can be: 2.5, 3, 3.5 or more standard deviations."
   ]
  }
 ],
 "metadata": {
  "kernelspec": {
   "display_name": "Python 3 (ipykernel)",
   "language": "python",
   "name": "python3"
  },
  "language_info": {
   "codemirror_mode": {
    "name": "ipython",
    "version": 3
   },
   "file_extension": ".py",
   "mimetype": "text/x-python",
   "name": "python",
   "nbconvert_exporter": "python",
   "pygments_lexer": "ipython3",
   "version": "3.9.12"
  }
 },
 "nbformat": 4,
 "nbformat_minor": 5
}
